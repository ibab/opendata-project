{
 "cells": [
  {
   "cell_type": "markdown",
   "metadata": {},
   "source": [
    "# More information about CP violation\n",
    "\n",
    "\n",
    "<div align=\"justify\">Why does the universe contain much more matter than antimatter? This is one of the major outstanding questions of fundamental physics. The big-bang is expected to have produced equal amounts of matter and antimatter. The universe today is made primarily of matter. \n",
    "\n",
    "<img src=\"http://www.symmetrymagazine.org/sites/default/files/legacy/images/200510/60secs_violation.jpg\" width=\"400\" />\n",
    "\n",
    "A fundamental difference between the behaviour of matter and antimatter (CP Violation) is one of the requirements, known as the Sakharov conditions, to explain how this can have arisen.</div>\n",
    "\n",
    "[You can read Sakharov's original paper here.](https://www.itp.kit.edu/~hofmann/lehre/GR/semSS2007LIT/Sakharov.pdf)\n",
    "\n",
    "<div align=\"justify\">CP-symmetry is the product of two symmetries: C for charge conjugation that transforms a particle into its antiparticle, and P for parity that reflects the spatial co-ordinates. [A violation of this symmetry was discovered in 1964](http://journals.aps.org/prl/pdf/10.1103/PhysRevLett.13.138) in weak decays of the kaons for which the 1980 Nobel Prize was awarded. A mechanism to include CP Violation in the [Standart Model](https://en.wikipedia.org/wiki/Standard_Model) (through the [CKM matrix](https://pdfs.semanticscholar.org/48f7/57489383cdeccdf54ae97ca98f0ee608f3de.pdf)) was suggested in 1973 and verified through tests of CP Violation in weak decays of the B mesons at the [BaBar and Belle experiments](http://paperity.org/p/52588259/the-physics-of-the-b-factories) from 1999-2010, with the 2008 Nobel Prize being awarded for this work. Further information on CP Violation can be found in [Particle Physics](http://web-docs.gsi.de/~gkalicy/books/Martin%20-%20Particle%20Physics%203e%20(Wiley,%202008).pdf) by B.R Martin and G. Shaw or in a series of [six two-hour lectures on CP Violation](http://www.hep.manchester.ac.uk/u/parkes/Teaching/CPViolation/PP.html) by Professor Chris Parkes at the University of Manchester.</div>\n",
    "\n",
    "<div align=\"justify\">The LHC experiments have discovered the last particle of the [Standard Model](http://home.cern/about/physics/standard-model), the [Higgs boson](http://home.cern/topics/higgs-boson), and are engaged in searching for new physics from beyond the Standard Model. The Standard Model (SM) of particle physics includes CP Violation, but the magnitude of the effect is far too small to explain the matter antimatter imbalance in the universe. Consequently additional sources of CP Violation are required. New particles from beyond the SM will in general add additional sources of CP Violation. Hence measurements of CP Violation provide an important method of searching for new phenomena from beyond the SM. These new physics particles could potentially also provide explanations for other major unanswered questions such as the nature of dark-matter.\n",
    "Experimental studies of CP Violation can be conducted by comparing the decays of a particle and antiparticle state.</div>\n",
    "\n",
    "<div align=\"justify\">The LHCb experiment is the experiment at the LHC dedicated to such studies and has produced a number of major results. Regularly updated highlights from its physics programme are described on these [web](http://lhcb-public.web.cern.ch/lhcb-public/) [pages](www.lhcb.ac.uk/). The analysis undertaken in this project is based on the largest CP Violation effects that have been observed. These are discussed [here](http://journals.aps.org/prl/pdf/10.1103/PhysRevLett.112.011801) and [here](http://journals.aps.org/prl/pdf/10.1103/PhysRevLett.111.101801).</div>\n"
   ]
  },
  {
   "cell_type": "code",
   "execution_count": null,
   "metadata": {
    "collapsed": true
   },
   "outputs": [],
   "source": []
  }
 ],
 "metadata": {
  "kernelspec": {
   "display_name": "Python 2",
   "language": "python",
   "name": "python2"
  },
  "language_info": {
   "codemirror_mode": {
    "name": "ipython",
    "version": 2
   },
   "file_extension": ".py",
   "mimetype": "text/x-python",
   "name": "python",
   "nbconvert_exporter": "python",
   "pygments_lexer": "ipython2",
   "version": "2.7.10"
  }
 },
 "nbformat": 4,
 "nbformat_minor": 0
}
