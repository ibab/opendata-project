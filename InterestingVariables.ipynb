{
 "cells": [
  {
   "cell_type": "markdown",
   "metadata": {},
   "source": [
    "# Interesting Variables\n",
    "\n",
    "## The Transverse Momentum\n",
    "\n",
    "The transverse momentum, Pt, of a particle is the component of the momentum which is perpendicular to the beam line. \n",
    "\n",
    "<img src=\"http://mathsconcepts.com/PT.jpg?width=500&height=284\" width=\"700\" />\n",
    "\n",
    "This variable is interesting because it can tell us about the likelihood of that particle originating from a collision of the two beams. Imagine the angles away from the beam line if two particles did not or just slightly collide. The direction of their paths would remain (almost) unchanged. Now, should two particles collide head on, their elementary constituents can leave the collision vertex in any direction, including the direction perpendicular to the beam line. This way we can deduce a particles involvement in a collision from their transverse momentum. \n",
    "\n",
    "## Momentum and Energy\n",
    "\n",
    "We can obtain information about a particle's momentum and energy from different components of the [LHCb detector](http://lhcb-public.web.cern.ch/lhcb-public/en/detector/Detector-en.html). We can calculate the particle's momentum from the radius of tracks in the [Vertex Locator](http://lhcb-public.web.cern.ch/lhcb-public/en/detector/VELO-en.html) and the [silicon and outer trackers](http://lhcb-public.web.cern.ch/lhcb-public/en/detector/Trackers-en.html), whereas we obtain information about the particle's energy directly from the [hadron or electromagnetic calorimeters](http://lhcb-public.web.cern.ch/lhcb-public/en/detector/Calorimeters-en.html). \n"
   ]
  },
  {
   "cell_type": "code",
   "execution_count": null,
   "metadata": {
    "collapsed": true
   },
   "outputs": [],
   "source": []
  }
 ],
 "metadata": {
  "kernelspec": {
   "display_name": "Python 2",
   "language": "python",
   "name": "python2"
  },
  "language_info": {
   "codemirror_mode": {
    "name": "ipython",
    "version": 2
   },
   "file_extension": ".py",
   "mimetype": "text/x-python",
   "name": "python",
   "nbconvert_exporter": "python",
   "pygments_lexer": "ipython2",
   "version": "2.7.10"
  }
 },
 "nbformat": 4,
 "nbformat_minor": 0
}
