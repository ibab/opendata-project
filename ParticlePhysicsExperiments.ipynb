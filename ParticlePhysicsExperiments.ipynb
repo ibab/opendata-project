{
 "cells": [
  {
   "cell_type": "markdown",
   "metadata": {},
   "source": [
    "# Particle Physics Experiments\n",
    "\n",
    "## Why can we use the Large Hadron Collider at CERN to simulate the conditions of the Big Bang?\n",
    "\n",
    "At the very beginning of time, the universe went through eras in which it consisted only of elementary particles. In the picture below, you can see this within the GUT (Grand Unification) Era, the Electroweak Era and the Particle Era. \n",
    "\n",
    "<img src=\"http://www.physicsoftheuniverse.com/images/bigbang_timeline.jpg\" width=\"700\" />\n",
    "\n",
    "Now, 13.8 billion years later, not all of these elementary particles can be observed on their own anymore. Experiments such as the Large Hadron Collider allow us to create and study those elementary particles. In this way, we can recreate conditions similar to those around 0.001 seconds after the Big Bang and we can examine the behaviour towards the resulting matter antimatter asymmetry.\n",
    "\n",
    "If you would like to find out more, here is some information about the [Early Universe](http://home.cern/about/physics/early-universe) and the [Elementary Particles](https://en.wikipedia.org/wiki/Elementary_particle). CERN has also released a [video about the Standart Model of Particle Physics](https://www.youtube.com/watch?v=V0KjXsGRvoA)."
   ]
  },
  {
   "cell_type": "code",
   "execution_count": null,
   "metadata": {
    "collapsed": true
   },
   "outputs": [],
   "source": []
  }
 ],
 "metadata": {
  "kernelspec": {
   "display_name": "Python 2",
   "language": "python",
   "name": "python2"
  },
  "language_info": {
   "codemirror_mode": {
    "name": "ipython",
    "version": 2
   },
   "file_extension": ".py",
   "mimetype": "text/x-python",
   "name": "python",
   "nbconvert_exporter": "python",
   "pygments_lexer": "ipython2",
   "version": "2.7.10"
  }
 },
 "nbformat": 4,
 "nbformat_minor": 0
}
